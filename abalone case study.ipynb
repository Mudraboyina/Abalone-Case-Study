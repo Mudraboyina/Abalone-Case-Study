{
 "cells": [
  {
   "cell_type": "markdown",
   "id": "eebda217",
   "metadata": {},
   "source": [
    "importing the dataset"
   ]
  },
  {
   "cell_type": "code",
   "execution_count": 48,
   "id": "2116b66c",
   "metadata": {},
   "outputs": [],
   "source": [
    "import pandas as pd\n",
    "import numpy as np"
   ]
  },
  {
   "cell_type": "code",
   "execution_count": 155,
   "id": "318ff1e7",
   "metadata": {},
   "outputs": [],
   "source": [
    "df=pd.read_csv('https://raw.githubusercontent.com/dsrscientist/dataset1/master/abalone.csv')"
   ]
  },
  {
   "cell_type": "code",
   "execution_count": 156,
   "id": "800c2a07",
   "metadata": {},
   "outputs": [
    {
     "data": {
      "text/plain": [
       "Index(['Sex', 'Length', 'Diameter', 'Height', 'Whole weight', 'Shucked weight',\n",
       "       'Viscera weight', 'Shell weight', 'Rings'],\n",
       "      dtype='object')"
      ]
     },
     "execution_count": 156,
     "metadata": {},
     "output_type": "execute_result"
    }
   ],
   "source": [
    "df.columns"
   ]
  },
  {
   "cell_type": "code",
   "execution_count": 157,
   "id": "abb7466a",
   "metadata": {},
   "outputs": [
    {
     "data": {
      "text/html": [
       "<div>\n",
       "<style scoped>\n",
       "    .dataframe tbody tr th:only-of-type {\n",
       "        vertical-align: middle;\n",
       "    }\n",
       "\n",
       "    .dataframe tbody tr th {\n",
       "        vertical-align: top;\n",
       "    }\n",
       "\n",
       "    .dataframe thead th {\n",
       "        text-align: right;\n",
       "    }\n",
       "</style>\n",
       "<table border=\"1\" class=\"dataframe\">\n",
       "  <thead>\n",
       "    <tr style=\"text-align: right;\">\n",
       "      <th></th>\n",
       "      <th>Sex</th>\n",
       "      <th>Length</th>\n",
       "      <th>Diameter</th>\n",
       "      <th>Height</th>\n",
       "      <th>Whole weight</th>\n",
       "      <th>Shucked weight</th>\n",
       "      <th>Viscera weight</th>\n",
       "      <th>Shell weight</th>\n",
       "      <th>Rings</th>\n",
       "    </tr>\n",
       "  </thead>\n",
       "  <tbody>\n",
       "    <tr>\n",
       "      <th>0</th>\n",
       "      <td>M</td>\n",
       "      <td>0.455</td>\n",
       "      <td>0.365</td>\n",
       "      <td>0.095</td>\n",
       "      <td>0.5140</td>\n",
       "      <td>0.2245</td>\n",
       "      <td>0.1010</td>\n",
       "      <td>0.150</td>\n",
       "      <td>15</td>\n",
       "    </tr>\n",
       "    <tr>\n",
       "      <th>1</th>\n",
       "      <td>M</td>\n",
       "      <td>0.350</td>\n",
       "      <td>0.265</td>\n",
       "      <td>0.090</td>\n",
       "      <td>0.2255</td>\n",
       "      <td>0.0995</td>\n",
       "      <td>0.0485</td>\n",
       "      <td>0.070</td>\n",
       "      <td>7</td>\n",
       "    </tr>\n",
       "    <tr>\n",
       "      <th>2</th>\n",
       "      <td>F</td>\n",
       "      <td>0.530</td>\n",
       "      <td>0.420</td>\n",
       "      <td>0.135</td>\n",
       "      <td>0.6770</td>\n",
       "      <td>0.2565</td>\n",
       "      <td>0.1415</td>\n",
       "      <td>0.210</td>\n",
       "      <td>9</td>\n",
       "    </tr>\n",
       "    <tr>\n",
       "      <th>3</th>\n",
       "      <td>M</td>\n",
       "      <td>0.440</td>\n",
       "      <td>0.365</td>\n",
       "      <td>0.125</td>\n",
       "      <td>0.5160</td>\n",
       "      <td>0.2155</td>\n",
       "      <td>0.1140</td>\n",
       "      <td>0.155</td>\n",
       "      <td>10</td>\n",
       "    </tr>\n",
       "    <tr>\n",
       "      <th>4</th>\n",
       "      <td>I</td>\n",
       "      <td>0.330</td>\n",
       "      <td>0.255</td>\n",
       "      <td>0.080</td>\n",
       "      <td>0.2050</td>\n",
       "      <td>0.0895</td>\n",
       "      <td>0.0395</td>\n",
       "      <td>0.055</td>\n",
       "      <td>7</td>\n",
       "    </tr>\n",
       "  </tbody>\n",
       "</table>\n",
       "</div>"
      ],
      "text/plain": [
       "  Sex  Length  Diameter  Height  Whole weight  Shucked weight  Viscera weight  \\\n",
       "0   M   0.455     0.365   0.095        0.5140          0.2245          0.1010   \n",
       "1   M   0.350     0.265   0.090        0.2255          0.0995          0.0485   \n",
       "2   F   0.530     0.420   0.135        0.6770          0.2565          0.1415   \n",
       "3   M   0.440     0.365   0.125        0.5160          0.2155          0.1140   \n",
       "4   I   0.330     0.255   0.080        0.2050          0.0895          0.0395   \n",
       "\n",
       "   Shell weight  Rings  \n",
       "0         0.150     15  \n",
       "1         0.070      7  \n",
       "2         0.210      9  \n",
       "3         0.155     10  \n",
       "4         0.055      7  "
      ]
     },
     "execution_count": 157,
     "metadata": {},
     "output_type": "execute_result"
    }
   ],
   "source": [
    "df.head()"
   ]
  },
  {
   "cell_type": "markdown",
   "id": "fbafcb25",
   "metadata": {},
   "source": [
    "checking null values in the dataframe"
   ]
  },
  {
   "cell_type": "code",
   "execution_count": 158,
   "id": "71e75329",
   "metadata": {},
   "outputs": [
    {
     "data": {
      "text/plain": [
       "Sex               0\n",
       "Length            0\n",
       "Diameter          0\n",
       "Height            0\n",
       "Whole weight      0\n",
       "Shucked weight    0\n",
       "Viscera weight    0\n",
       "Shell weight      0\n",
       "Rings             0\n",
       "dtype: int64"
      ]
     },
     "execution_count": 158,
     "metadata": {},
     "output_type": "execute_result"
    }
   ],
   "source": [
    "df.isna().sum()"
   ]
  },
  {
   "cell_type": "code",
   "execution_count": 159,
   "id": "9f36b240",
   "metadata": {},
   "outputs": [
    {
     "data": {
      "text/plain": [
       "Index(['Sex', 'Length', 'Diameter', 'Height', 'Whole weight', 'Shucked weight',\n",
       "       'Viscera weight', 'Shell weight', 'Rings'],\n",
       "      dtype='object')"
      ]
     },
     "execution_count": 159,
     "metadata": {},
     "output_type": "execute_result"
    }
   ],
   "source": [
    "df.columns"
   ]
  },
  {
   "cell_type": "code",
   "execution_count": 162,
   "id": "fcd66e95",
   "metadata": {},
   "outputs": [
    {
     "data": {
      "text/plain": [
       "int"
      ]
     },
     "execution_count": 162,
     "metadata": {},
     "output_type": "execute_result"
    }
   ],
   "source": [
    " a=12\n",
    "type(a)"
   ]
  },
  {
   "cell_type": "code",
   "execution_count": 163,
   "id": "336d71f1",
   "metadata": {},
   "outputs": [
    {
     "data": {
      "text/plain": [
       "str"
      ]
     },
     "execution_count": 163,
     "metadata": {},
     "output_type": "execute_result"
    }
   ],
   "source": [
    "b='12'\n",
    "type(b)"
   ]
  },
  {
   "cell_type": "code",
   "execution_count": 164,
   "id": "6fdb21b6",
   "metadata": {},
   "outputs": [
    {
     "data": {
      "text/plain": [
       "str"
      ]
     },
     "execution_count": 164,
     "metadata": {},
     "output_type": "execute_result"
    }
   ],
   "source": [
    "#figure in quality\n",
    "rings='12'\n",
    "#type(quality)\n",
    "\n",
    "f=quality\n",
    "type(f)"
   ]
  },
  {
   "cell_type": "markdown",
   "id": "f13c40d7",
   "metadata": {},
   "source": [
    "checking the data types of columns."
   ]
  },
  {
   "cell_type": "code",
   "execution_count": 165,
   "id": "0150924d",
   "metadata": {},
   "outputs": [
    {
     "data": {
      "text/plain": [
       "Sex                object\n",
       "Length            float64\n",
       "Diameter          float64\n",
       "Height            float64\n",
       "Whole weight      float64\n",
       "Shucked weight    float64\n",
       "Viscera weight    float64\n",
       "Shell weight      float64\n",
       "Rings               int64\n",
       "dtype: object"
      ]
     },
     "execution_count": 165,
     "metadata": {},
     "output_type": "execute_result"
    }
   ],
   "source": [
    "df.dtypes"
   ]
  },
  {
   "cell_type": "code",
   "execution_count": 166,
   "id": "1cc14be2",
   "metadata": {},
   "outputs": [
    {
     "data": {
      "text/plain": [
       "Sex                object\n",
       "Length            float64\n",
       "Diameter          float64\n",
       "Height            float64\n",
       "Whole weight      float64\n",
       "Shucked weight    float64\n",
       "Viscera weight    float64\n",
       "Shell weight      float64\n",
       "Rings               int64\n",
       "dtype: object"
      ]
     },
     "execution_count": 166,
     "metadata": {},
     "output_type": "execute_result"
    }
   ],
   "source": [
    "df.dtypes"
   ]
  },
  {
   "cell_type": "code",
   "execution_count": 171,
   "id": "7dae41eb",
   "metadata": {},
   "outputs": [
    {
     "data": {
      "text/plain": [
       "array([15,  7,  9, 10,  8, 20, 16, 19, 14, 11, 12, 18, 13,  5,  4,  6, 21,\n",
       "       17, 22,  1,  3, 26, 23, 29,  2, 27, 25, 24], dtype=int64)"
      ]
     },
     "execution_count": 171,
     "metadata": {},
     "output_type": "execute_result"
    }
   ],
   "source": [
    "df['Rings'].unique()"
   ]
  },
  {
   "cell_type": "code",
   "execution_count": 172,
   "id": "9c1a8ce9",
   "metadata": {},
   "outputs": [
    {
     "data": {
      "text/plain": [
       "array([15,  7,  9, 10,  8, 20, 16, 19, 14, 11, 12, 18, 13,  5,  4,  6, 21,\n",
       "       17, 22,  1,  3, 26, 23, 29,  2, 27, 25, 24], dtype=int64)"
      ]
     },
     "execution_count": 172,
     "metadata": {},
     "output_type": "execute_result"
    }
   ],
   "source": [
    "df['Rings'].unique()"
   ]
  },
  {
   "cell_type": "code",
   "execution_count": 173,
   "id": "d6544234",
   "metadata": {},
   "outputs": [
    {
     "data": {
      "text/plain": [
       "4177"
      ]
     },
     "execution_count": 173,
     "metadata": {},
     "output_type": "execute_result"
    }
   ],
   "source": [
    "df.shape[0]"
   ]
  },
  {
   "cell_type": "code",
   "execution_count": 174,
   "id": "2c2629cd",
   "metadata": {},
   "outputs": [
    {
     "data": {
      "text/html": [
       "<div>\n",
       "<style scoped>\n",
       "    .dataframe tbody tr th:only-of-type {\n",
       "        vertical-align: middle;\n",
       "    }\n",
       "\n",
       "    .dataframe tbody tr th {\n",
       "        vertical-align: top;\n",
       "    }\n",
       "\n",
       "    .dataframe thead th {\n",
       "        text-align: right;\n",
       "    }\n",
       "</style>\n",
       "<table border=\"1\" class=\"dataframe\">\n",
       "  <thead>\n",
       "    <tr style=\"text-align: right;\">\n",
       "      <th></th>\n",
       "      <th>Sex</th>\n",
       "      <th>Length</th>\n",
       "      <th>Diameter</th>\n",
       "      <th>Height</th>\n",
       "      <th>Whole weight</th>\n",
       "      <th>Shucked weight</th>\n",
       "      <th>Viscera weight</th>\n",
       "      <th>Shell weight</th>\n",
       "      <th>Rings</th>\n",
       "    </tr>\n",
       "  </thead>\n",
       "  <tbody>\n",
       "  </tbody>\n",
       "</table>\n",
       "</div>"
      ],
      "text/plain": [
       "Empty DataFrame\n",
       "Columns: [Sex, Length, Diameter, Height, Whole weight, Shucked weight, Viscera weight, Shell weight, Rings]\n",
       "Index: []"
      ]
     },
     "execution_count": 174,
     "metadata": {},
     "output_type": "execute_result"
    }
   ],
   "source": [
    "df.loc[df['Rings']==\" \"]"
   ]
  },
  {
   "cell_type": "markdown",
   "id": "d0a224fd",
   "metadata": {},
   "source": [
    "after some observations we saw the some columns have space as the value"
   ]
  },
  {
   "cell_type": "code",
   "execution_count": 175,
   "id": "7a7e8480",
   "metadata": {},
   "outputs": [],
   "source": [
    "df[\"Rings\"]=df[\"Rings\"].replace(\" \",np.nan)"
   ]
  },
  {
   "cell_type": "code",
   "execution_count": 176,
   "id": "24926331",
   "metadata": {},
   "outputs": [
    {
     "data": {
      "text/plain": [
       "Sex               0\n",
       "Length            0\n",
       "Diameter          0\n",
       "Height            0\n",
       "Whole weight      0\n",
       "Shucked weight    0\n",
       "Viscera weight    0\n",
       "Shell weight      0\n",
       "Rings             0\n",
       "dtype: int64"
      ]
     },
     "execution_count": 176,
     "metadata": {},
     "output_type": "execute_result"
    }
   ],
   "source": [
    "df.isna().sum()"
   ]
  },
  {
   "cell_type": "markdown",
   "id": "9717f5e7",
   "metadata": {},
   "source": [
    "converting the column type from object to float"
   ]
  },
  {
   "cell_type": "code",
   "execution_count": 177,
   "id": "b53a00e1",
   "metadata": {},
   "outputs": [],
   "source": [
    "df[\"Rings\"]=df[\"Rings\"].astype(float)"
   ]
  },
  {
   "cell_type": "code",
   "execution_count": 179,
   "id": "4ee452c0",
   "metadata": {},
   "outputs": [
    {
     "data": {
      "text/plain": [
       "dtype('float64')"
      ]
     },
     "execution_count": 179,
     "metadata": {},
     "output_type": "execute_result"
    }
   ],
   "source": [
    "df.Rings.dtype"
   ]
  },
  {
   "cell_type": "markdown",
   "id": "0ee538a8",
   "metadata": {},
   "source": [
    "now we can see quality columns has some space values which is replaced by nan values.now we will handlethe nan values"
   ]
  },
  {
   "cell_type": "markdown",
   "id": "df9a4c24",
   "metadata": {},
   "source": [
    "handling the nan values and replacing with mean of the columns.as the continuous in nature"
   ]
  },
  {
   "cell_type": "code",
   "execution_count": 180,
   "id": "faf4fb4d",
   "metadata": {},
   "outputs": [
    {
     "data": {
      "text/plain": [
       "9.933684462532918"
      ]
     },
     "execution_count": 180,
     "metadata": {},
     "output_type": "execute_result"
    }
   ],
   "source": [
    "np.mean(df[\"Rings\"])"
   ]
  },
  {
   "cell_type": "code",
   "execution_count": 181,
   "id": "aa9cc999",
   "metadata": {},
   "outputs": [
    {
     "data": {
      "text/plain": [
       "Sex                    F\n",
       "Length              0.63\n",
       "Diameter             0.5\n",
       "Height             0.175\n",
       "Whole weight      1.1105\n",
       "Shucked weight     0.467\n",
       "Viscera weight     0.268\n",
       "Shell weight       0.329\n",
       "Rings               10.0\n",
       "Name: 1500, dtype: object"
      ]
     },
     "execution_count": 181,
     "metadata": {},
     "output_type": "execute_result"
    }
   ],
   "source": [
    "df.iloc[1500,:]"
   ]
  },
  {
   "cell_type": "code",
   "execution_count": 183,
   "id": "fcf96a11",
   "metadata": {},
   "outputs": [],
   "source": [
    "df[\"Rings\"] = df[\"Rings\"].fillna(np.mean(df[\"Rings\"]))"
   ]
  },
  {
   "cell_type": "code",
   "execution_count": 184,
   "id": "d835e20b",
   "metadata": {},
   "outputs": [
    {
     "data": {
      "text/plain": [
       "Sex                    F\n",
       "Length              0.63\n",
       "Diameter             0.5\n",
       "Height             0.175\n",
       "Whole weight      1.1105\n",
       "Shucked weight     0.467\n",
       "Viscera weight     0.268\n",
       "Shell weight       0.329\n",
       "Rings               10.0\n",
       "Name: 1500, dtype: object"
      ]
     },
     "execution_count": 184,
     "metadata": {},
     "output_type": "execute_result"
    }
   ],
   "source": [
    "df.iloc[1500,:]"
   ]
  },
  {
   "cell_type": "code",
   "execution_count": 185,
   "id": "800edf5d",
   "metadata": {},
   "outputs": [
    {
     "data": {
      "text/plain": [
       "Sex               0\n",
       "Length            0\n",
       "Diameter          0\n",
       "Height            0\n",
       "Whole weight      0\n",
       "Shucked weight    0\n",
       "Viscera weight    0\n",
       "Shell weight      0\n",
       "Rings             0\n",
       "dtype: int64"
      ]
     },
     "execution_count": 185,
     "metadata": {},
     "output_type": "execute_result"
    }
   ],
   "source": [
    "df.isnull().sum()"
   ]
  },
  {
   "cell_type": "code",
   "execution_count": 186,
   "id": "70e378e3",
   "metadata": {},
   "outputs": [
    {
     "data": {
      "text/plain": [
       "Sex                object\n",
       "Length            float64\n",
       "Diameter          float64\n",
       "Height            float64\n",
       "Whole weight      float64\n",
       "Shucked weight    float64\n",
       "Viscera weight    float64\n",
       "Shell weight      float64\n",
       "Rings             float64\n",
       "dtype: object"
      ]
     },
     "execution_count": 186,
     "metadata": {},
     "output_type": "execute_result"
    }
   ],
   "source": [
    "df.dtypes"
   ]
  },
  {
   "cell_type": "markdown",
   "id": "668aa6ea",
   "metadata": {},
   "source": [
    "making dataframe for the nominal data"
   ]
  },
  {
   "cell_type": "code",
   "execution_count": 187,
   "id": "702254fb",
   "metadata": {},
   "outputs": [],
   "source": [
    "df_visualization_nominal=df[['Sex', 'Length', 'Diameter', 'Height', 'Whole weight', 'Shucked weight',\n",
    "       'Viscera weight', 'Shell weight', 'Rings']].copy()"
   ]
  },
  {
   "cell_type": "code",
   "execution_count": 188,
   "id": "0b9e9a65",
   "metadata": {},
   "outputs": [
    {
     "data": {
      "text/plain": [
       "Index(['Sex', 'Length', 'Diameter', 'Height', 'Whole weight', 'Shucked weight',\n",
       "       'Viscera weight', 'Shell weight', 'Rings'],\n",
       "      dtype='object')"
      ]
     },
     "execution_count": 188,
     "metadata": {},
     "output_type": "execute_result"
    }
   ],
   "source": [
    "df_visualization_nominal.columns"
   ]
  },
  {
   "cell_type": "markdown",
   "id": "6fe79d27",
   "metadata": {},
   "source": [
    "visualization of the data:"
   ]
  },
  {
   "cell_type": "markdown",
   "id": "a77fbe7a",
   "metadata": {},
   "source": [
    "for the nominal categorical data we will use countplot as it will give the frequancy of the classes of the columns:"
   ]
  },
  {
   "cell_type": "code",
   "execution_count": 189,
   "id": "87a6c175",
   "metadata": {},
   "outputs": [],
   "source": [
    "import seaborn as sns"
   ]
  },
  {
   "cell_type": "code",
   "execution_count": 191,
   "id": "8d178733",
   "metadata": {},
   "outputs": [
    {
     "name": "stdout",
     "output_type": "stream",
     "text": [
      "9.0     689\n",
      "10.0    634\n",
      "8.0     568\n",
      "11.0    487\n",
      "7.0     391\n",
      "12.0    267\n",
      "6.0     259\n",
      "13.0    203\n",
      "14.0    126\n",
      "5.0     115\n",
      "15.0    103\n",
      "16.0     67\n",
      "17.0     58\n",
      "4.0      57\n",
      "18.0     42\n",
      "19.0     32\n",
      "20.0     26\n",
      "3.0      15\n",
      "21.0     14\n",
      "23.0      9\n",
      "22.0      6\n",
      "27.0      2\n",
      "24.0      2\n",
      "1.0       1\n",
      "26.0      1\n",
      "29.0      1\n",
      "2.0       1\n",
      "25.0      1\n",
      "Name: Rings, dtype: int64\n"
     ]
    },
    {
     "data": {
      "image/png": "[encoded data removed]",
      "text/plain": [
       "<Figure size 432x288 with 1 Axes>"
      ]
     },
     "metadata": {
      "needs_background": "light"
     },
     "output_type": "display_data"
    }
   ],
   "source": [
    "ax = sns.countplot(x=\"Rings\", data=df_visualization_nominal)\n",
    "print(df_visualization_nominal[\"Rings\"].value_counts())"
   ]
  },
  {
   "cell_type": "code",
   "execution_count": 193,
   "id": "1b6ddd91",
   "metadata": {},
   "outputs": [
    {
     "name": "stdout",
     "output_type": "stream",
     "text": [
      "M    1528\n",
      "I    1342\n",
      "F    1307\n",
      "Name: Sex, dtype: int64\n"
     ]
    },
    {
     "data": {
      "image/png": "[encoded data removed]",
      "text/plain": [
       "<Figure size 432x288 with 1 Axes>"
      ]
     },
     "metadata": {
      "needs_background": "light"
     },
     "output_type": "display_data"
    }
   ],
   "source": [
    "ax = sns.countplot(x=\"Sex\", data=df_visualization_nominal)\n",
    "print(df_visualization_nominal[\"Sex\"].value_counts())"
   ]
  },
  {
   "cell_type": "code",
   "execution_count": 194,
   "id": "0ec4e991",
   "metadata": {},
   "outputs": [
    {
     "name": "stdout",
     "output_type": "stream",
     "text": [
      "0.625    94\n",
      "0.550    94\n",
      "0.575    93\n",
      "0.580    92\n",
      "0.600    87\n",
      "         ..\n",
      "0.075     1\n",
      "0.815     1\n",
      "0.110     1\n",
      "0.150     1\n",
      "0.800     1\n",
      "Name: Length, Length: 134, dtype: int64\n"
     ]
    },
    {
     "data": {
      "image/png": "[encoded data removed]",
      "text/plain": [
       "<Figure size 432x288 with 1 Axes>"
      ]
     },
     "metadata": {
      "needs_background": "light"
     },
     "output_type": "display_data"
    }
   ],
   "source": [
    "ax = sns.countplot(x=\"Length\", data=df_visualization_nominal)\n",
    "print(df_visualization_nominal[\"Length\"].value_counts())"
   ]
  },
  {
   "cell_type": "code",
   "execution_count": 195,
   "id": "8395af4b",
   "metadata": {},
   "outputs": [
    {
     "name": "stdout",
     "output_type": "stream",
     "text": [
      "0.450    139\n",
      "0.475    120\n",
      "0.400    111\n",
      "0.500    110\n",
      "0.470    100\n",
      "        ... \n",
      "0.610      1\n",
      "0.650      1\n",
      "0.620      1\n",
      "0.095      1\n",
      "0.615      1\n",
      "Name: Diameter, Length: 111, dtype: int64\n"
     ]
    },
    {
     "data": {
      "image/png": "[encoded data removed]",
      "text/plain": [
       "<Figure size 432x288 with 1 Axes>"
      ]
     },
     "metadata": {
      "needs_background": "light"
     },
     "output_type": "display_data"
    }
   ],
   "source": [
    "ax = sns.countplot(x=\"Diameter\", data=df_visualization_nominal)\n",
    "print(df_visualization_nominal[\"Diameter\"].value_counts())"
   ]
  },
  {
   "cell_type": "code",
   "execution_count": 196,
   "id": "ccb84571",
   "metadata": {},
   "outputs": [
    {
     "name": "stdout",
     "output_type": "stream",
     "text": [
      "0.150    267\n",
      "0.140    220\n",
      "0.155    217\n",
      "0.175    211\n",
      "0.160    205\n",
      "0.125    202\n",
      "0.165    193\n",
      "0.135    189\n",
      "0.145    182\n",
      "0.130    169\n",
      "0.120    169\n",
      "0.170    160\n",
      "0.100    145\n",
      "0.110    135\n",
      "0.115    133\n",
      "0.180    131\n",
      "0.090    124\n",
      "0.105    114\n",
      "0.185    103\n",
      "0.190    103\n",
      "0.095     91\n",
      "0.195     78\n",
      "0.080     76\n",
      "0.085     74\n",
      "0.200     68\n",
      "0.075     61\n",
      "0.070     47\n",
      "0.205     45\n",
      "0.065     39\n",
      "0.215     31\n",
      "0.060     26\n",
      "0.055     25\n",
      "0.210     23\n",
      "0.050     18\n",
      "0.220     17\n",
      "0.040     13\n",
      "0.225     13\n",
      "0.045     11\n",
      "0.230     10\n",
      "0.030      6\n",
      "0.035      6\n",
      "0.235      6\n",
      "0.025      5\n",
      "0.240      4\n",
      "0.250      3\n",
      "0.020      2\n",
      "0.015      2\n",
      "0.000      2\n",
      "0.010      1\n",
      "0.515      1\n",
      "1.130      1\n",
      "Name: Height, dtype: int64\n"
     ]
    },
    {
     "data": {
      "image/png": "[encoded data removed]",
      "text/plain": [
       "<Figure size 432x288 with 1 Axes>"
      ]
     },
     "metadata": {
      "needs_background": "light"
     },
     "output_type": "display_data"
    }
   ],
   "source": [
    "ax = sns.countplot(x=\"Height\", data=df_visualization_nominal)\n",
    "print(df_visualization_nominal[\"Height\"].value_counts())"
   ]
  },
  {
   "cell_type": "code",
   "execution_count": 198,
   "id": "33cb633d",
   "metadata": {},
   "outputs": [
    {
     "name": "stdout",
     "output_type": "stream",
     "text": [
      "0.2225    8\n",
      "1.1345    7\n",
      "0.9700    7\n",
      "0.4775    7\n",
      "0.1960    7\n",
      "         ..\n",
      "0.0475    1\n",
      "1.8930    1\n",
      "1.8725    1\n",
      "2.1055    1\n",
      "1.9485    1\n",
      "Name: Whole weight, Length: 2429, dtype: int64\n"
     ]
    },
    {
     "data": {
      "image/png": "[encoded data removed]",
      "text/plain": [
       "<Figure size 432x288 with 1 Axes>"
      ]
     },
     "metadata": {
      "needs_background": "light"
     },
     "output_type": "display_data"
    }
   ],
   "source": [
    "ax = sns.countplot(x=\"Whole weight\", data=df_visualization_nominal)\n",
    "print(df_visualization_nominal[\"Whole weight\"].value_counts())"
   ]
  },
  {
   "cell_type": "code",
   "execution_count": 199,
   "id": "70031280",
   "metadata": {},
   "outputs": [
    {
     "name": "stdout",
     "output_type": "stream",
     "text": [
      "0.1750    11\n",
      "0.2505    10\n",
      "0.0970     9\n",
      "0.0960     9\n",
      "0.4190     9\n",
      "          ..\n",
      "0.4175     1\n",
      "0.1935     1\n",
      "0.1790     1\n",
      "0.1275     1\n",
      "0.9455     1\n",
      "Name: Shucked weight, Length: 1515, dtype: int64\n"
     ]
    },
    {
     "data": {
      "image/png": "[encoded data removed]",
      "text/plain": [
       "<Figure size 432x288 with 1 Axes>"
      ]
     },
     "metadata": {
      "needs_background": "light"
     },
     "output_type": "display_data"
    }
   ],
   "source": [
    "ax = sns.countplot(x=\"Shucked weight\", data=df_visualization_nominal)\n",
    "print(df_visualization_nominal[\"Shucked weight\"].value_counts())"
   ]
  },
  {
   "cell_type": "code",
   "execution_count": 200,
   "id": "150b5bf5",
   "metadata": {},
   "outputs": [
    {
     "name": "stdout",
     "output_type": "stream",
     "text": [
      "0.1715    15\n",
      "0.1960    14\n",
      "0.0575    13\n",
      "0.0610    13\n",
      "0.0370    13\n",
      "          ..\n",
      "0.4270     1\n",
      "0.4075     1\n",
      "0.4920     1\n",
      "0.4650     1\n",
      "0.5260     1\n",
      "Name: Viscera weight, Length: 880, dtype: int64\n"
     ]
    },
    {
     "data": {
      "image/png": "[encoded data removed]",
      "text/plain": [
       "<Figure size 432x288 with 1 Axes>"
      ]
     },
     "metadata": {
      "needs_background": "light"
     },
     "output_type": "display_data"
    }
   ],
   "source": [
    "ax = sns.countplot(x=\"Viscera weight\", data=df_visualization_nominal)\n",
    "print(df_visualization_nominal[\"Viscera weight\"].value_counts())"
   ]
  },
  {
   "cell_type": "code",
   "execution_count": 201,
   "id": "da261025",
   "metadata": {},
   "outputs": [
    {
     "name": "stdout",
     "output_type": "stream",
     "text": [
      "0.2750    43\n",
      "0.2500    42\n",
      "0.2650    40\n",
      "0.3150    40\n",
      "0.1850    40\n",
      "          ..\n",
      "0.0060     1\n",
      "0.6460     1\n",
      "0.5010     1\n",
      "0.3295     1\n",
      "0.0920     1\n",
      "Name: Shell weight, Length: 926, dtype: int64\n"
     ]
    },
    {
     "data": {
      "image/png": "[encoded data removed]",
      "text/plain": [
       "<Figure size 432x288 with 1 Axes>"
      ]
     },
     "metadata": {
      "needs_background": "light"
     },
     "output_type": "display_data"
    }
   ],
   "source": [
    "ax = sns.countplot(x=\"Shell weight\", data=df_visualization_nominal)\n",
    "print(df_visualization_nominal[\"Shell weight\"].value_counts())"
   ]
  },
  {
   "cell_type": "markdown",
   "id": "8f3491ae",
   "metadata": {},
   "source": [
    "making dataframe of the ordinal data"
   ]
  },
  {
   "cell_type": "code",
   "execution_count": 202,
   "id": "132695b2",
   "metadata": {},
   "outputs": [],
   "source": [
    "df_visuvalization_ordinal=df[[\"Sex\",\"Rings\"]].copy()"
   ]
  },
  {
   "cell_type": "code",
   "execution_count": 203,
   "id": "4aa491fe",
   "metadata": {},
   "outputs": [
    {
     "data": {
      "text/plain": [
       "<seaborn.axisgrid.FacetGrid at 0x18bf698a7f0>"
      ]
     },
     "execution_count": 203,
     "metadata": {},
     "output_type": "execute_result"
    },
    {
     "data": {
      "image/png": "[encoded data removed]",
      "text/plain": [
       "<Figure size 360x360 with 1 Axes>"
      ]
     },
     "metadata": {
      "needs_background": "light"
     },
     "output_type": "display_data"
    }
   ],
   "source": [
    "sns.catplot(x=\"Sex\",y=\"Rings\",data=df)"
   ]
  },
  {
   "cell_type": "markdown",
   "id": "2d31af32",
   "metadata": {},
   "source": [
    "checking the distribution of the continuous value of the float type columns"
   ]
  },
  {
   "cell_type": "code",
   "execution_count": 204,
   "id": "aec8248a",
   "metadata": {},
   "outputs": [],
   "source": [
    "df_visualization_continuous=df[[\"Sex\",\"Rings\"]].copy()"
   ]
  },
  {
   "cell_type": "code",
   "execution_count": 205,
   "id": "2be743a5",
   "metadata": {},
   "outputs": [
    {
     "data": {
      "text/plain": [
       "<seaborn.axisgrid.FacetGrid at 0x18bf4b8d4f0>"
      ]
     },
     "execution_count": 205,
     "metadata": {},
     "output_type": "execute_result"
    },
    {
     "data": {
      "image/png": "[encoded data removed]",
      "text/plain": [
       "<Figure size 360x360 with 1 Axes>"
      ]
     },
     "metadata": {
      "needs_background": "light"
     },
     "output_type": "display_data"
    }
   ],
   "source": [
    "import seaborn as sns \n",
    "sns.displot(df_visualization_continuous['Rings'], kde=True)"
   ]
  },
  {
   "cell_type": "code",
   "execution_count": 206,
   "id": "a3d39ee7",
   "metadata": {},
   "outputs": [
    {
     "data": {
      "text/plain": [
       "<seaborn.axisgrid.FacetGrid at 0x18bf311d250>"
      ]
     },
     "execution_count": 206,
     "metadata": {},
     "output_type": "execute_result"
    },
    {
     "data": {
      "image/png": "[encoded data removed]",
      "text/plain": [
       "<Figure size 360x360 with 1 Axes>"
      ]
     },
     "metadata": {
      "needs_background": "light"
     },
     "output_type": "display_data"
    }
   ],
   "source": [
    "sns.displot(df_visualization_continuous['Rings'], kde=True)"
   ]
  },
  {
   "cell_type": "markdown",
   "id": "5896dd23",
   "metadata": {},
   "source": [
    "visualization part is completed"
   ]
  },
  {
   "cell_type": "markdown",
   "id": "9a3a5900",
   "metadata": {},
   "source": [
    "Encoding of DataFrame"
   ]
  },
  {
   "cell_type": "code",
   "execution_count": 207,
   "id": "6f35205b",
   "metadata": {},
   "outputs": [],
   "source": [
    "from sklearn.preprocessing import OrdinalEncoder\n",
    "enc=OrdinalEncoder()"
   ]
  },
  {
   "cell_type": "code",
   "execution_count": 208,
   "id": "48eaf60b",
   "metadata": {},
   "outputs": [],
   "source": [
    "for i in df.columns:\n",
    "    if df[i].dtypes==\"object\":\n",
    "        df[i]=enc.fit_transform(df[i].values.reshape(-1,1))"
   ]
  },
  {
   "cell_type": "code",
   "execution_count": 209,
   "id": "62c63487",
   "metadata": {},
   "outputs": [
    {
     "data": {
      "text/html": [
       "<div>\n",
       "<style scoped>\n",
       "    .dataframe tbody tr th:only-of-type {\n",
       "        vertical-align: middle;\n",
       "    }\n",
       "\n",
       "    .dataframe tbody tr th {\n",
       "        vertical-align: top;\n",
       "    }\n",
       "\n",
       "    .dataframe thead th {\n",
       "        text-align: right;\n",
       "    }\n",
       "</style>\n",
       "<table border=\"1\" class=\"dataframe\">\n",
       "  <thead>\n",
       "    <tr style=\"text-align: right;\">\n",
       "      <th></th>\n",
       "      <th>Sex</th>\n",
       "      <th>Length</th>\n",
       "      <th>Diameter</th>\n",
       "      <th>Height</th>\n",
       "      <th>Whole weight</th>\n",
       "      <th>Shucked weight</th>\n",
       "      <th>Viscera weight</th>\n",
       "      <th>Shell weight</th>\n",
       "      <th>Rings</th>\n",
       "    </tr>\n",
       "  </thead>\n",
       "  <tbody>\n",
       "    <tr>\n",
       "      <th>0</th>\n",
       "      <td>2.0</td>\n",
       "      <td>0.455</td>\n",
       "      <td>0.365</td>\n",
       "      <td>0.095</td>\n",
       "      <td>0.5140</td>\n",
       "      <td>0.2245</td>\n",
       "      <td>0.1010</td>\n",
       "      <td>0.1500</td>\n",
       "      <td>15.0</td>\n",
       "    </tr>\n",
       "    <tr>\n",
       "      <th>1</th>\n",
       "      <td>2.0</td>\n",
       "      <td>0.350</td>\n",
       "      <td>0.265</td>\n",
       "      <td>0.090</td>\n",
       "      <td>0.2255</td>\n",
       "      <td>0.0995</td>\n",
       "      <td>0.0485</td>\n",
       "      <td>0.0700</td>\n",
       "      <td>7.0</td>\n",
       "    </tr>\n",
       "    <tr>\n",
       "      <th>2</th>\n",
       "      <td>0.0</td>\n",
       "      <td>0.530</td>\n",
       "      <td>0.420</td>\n",
       "      <td>0.135</td>\n",
       "      <td>0.6770</td>\n",
       "      <td>0.2565</td>\n",
       "      <td>0.1415</td>\n",
       "      <td>0.2100</td>\n",
       "      <td>9.0</td>\n",
       "    </tr>\n",
       "    <tr>\n",
       "      <th>3</th>\n",
       "      <td>2.0</td>\n",
       "      <td>0.440</td>\n",
       "      <td>0.365</td>\n",
       "      <td>0.125</td>\n",
       "      <td>0.5160</td>\n",
       "      <td>0.2155</td>\n",
       "      <td>0.1140</td>\n",
       "      <td>0.1550</td>\n",
       "      <td>10.0</td>\n",
       "    </tr>\n",
       "    <tr>\n",
       "      <th>4</th>\n",
       "      <td>1.0</td>\n",
       "      <td>0.330</td>\n",
       "      <td>0.255</td>\n",
       "      <td>0.080</td>\n",
       "      <td>0.2050</td>\n",
       "      <td>0.0895</td>\n",
       "      <td>0.0395</td>\n",
       "      <td>0.0550</td>\n",
       "      <td>7.0</td>\n",
       "    </tr>\n",
       "    <tr>\n",
       "      <th>...</th>\n",
       "      <td>...</td>\n",
       "      <td>...</td>\n",
       "      <td>...</td>\n",
       "      <td>...</td>\n",
       "      <td>...</td>\n",
       "      <td>...</td>\n",
       "      <td>...</td>\n",
       "      <td>...</td>\n",
       "      <td>...</td>\n",
       "    </tr>\n",
       "    <tr>\n",
       "      <th>4172</th>\n",
       "      <td>0.0</td>\n",
       "      <td>0.565</td>\n",
       "      <td>0.450</td>\n",
       "      <td>0.165</td>\n",
       "      <td>0.8870</td>\n",
       "      <td>0.3700</td>\n",
       "      <td>0.2390</td>\n",
       "      <td>0.2490</td>\n",
       "      <td>11.0</td>\n",
       "    </tr>\n",
       "    <tr>\n",
       "      <th>4173</th>\n",
       "      <td>2.0</td>\n",
       "      <td>0.590</td>\n",
       "      <td>0.440</td>\n",
       "      <td>0.135</td>\n",
       "      <td>0.9660</td>\n",
       "      <td>0.4390</td>\n",
       "      <td>0.2145</td>\n",
       "      <td>0.2605</td>\n",
       "      <td>10.0</td>\n",
       "    </tr>\n",
       "    <tr>\n",
       "      <th>4174</th>\n",
       "      <td>2.0</td>\n",
       "      <td>0.600</td>\n",
       "      <td>0.475</td>\n",
       "      <td>0.205</td>\n",
       "      <td>1.1760</td>\n",
       "      <td>0.5255</td>\n",
       "      <td>0.2875</td>\n",
       "      <td>0.3080</td>\n",
       "      <td>9.0</td>\n",
       "    </tr>\n",
       "    <tr>\n",
       "      <th>4175</th>\n",
       "      <td>0.0</td>\n",
       "      <td>0.625</td>\n",
       "      <td>0.485</td>\n",
       "      <td>0.150</td>\n",
       "      <td>1.0945</td>\n",
       "      <td>0.5310</td>\n",
       "      <td>0.2610</td>\n",
       "      <td>0.2960</td>\n",
       "      <td>10.0</td>\n",
       "    </tr>\n",
       "    <tr>\n",
       "      <th>4176</th>\n",
       "      <td>2.0</td>\n",
       "      <td>0.710</td>\n",
       "      <td>0.555</td>\n",
       "      <td>0.195</td>\n",
       "      <td>1.9485</td>\n",
       "      <td>0.9455</td>\n",
       "      <td>0.3765</td>\n",
       "      <td>0.4950</td>\n",
       "      <td>12.0</td>\n",
       "    </tr>\n",
       "  </tbody>\n",
       "</table>\n",
       "<p>4177 rows × 9 columns</p>\n",
       "</div>"
      ],
      "text/plain": [
       "      Sex  Length  Diameter  Height  Whole weight  Shucked weight  \\\n",
       "0     2.0   0.455     0.365   0.095        0.5140          0.2245   \n",
       "1     2.0   0.350     0.265   0.090        0.2255          0.0995   \n",
       "2     0.0   0.530     0.420   0.135        0.6770          0.2565   \n",
       "3     2.0   0.440     0.365   0.125        0.5160          0.2155   \n",
       "4     1.0   0.330     0.255   0.080        0.2050          0.0895   \n",
       "...   ...     ...       ...     ...           ...             ...   \n",
       "4172  0.0   0.565     0.450   0.165        0.8870          0.3700   \n",
       "4173  2.0   0.590     0.440   0.135        0.9660          0.4390   \n",
       "4174  2.0   0.600     0.475   0.205        1.1760          0.5255   \n",
       "4175  0.0   0.625     0.485   0.150        1.0945          0.5310   \n",
       "4176  2.0   0.710     0.555   0.195        1.9485          0.9455   \n",
       "\n",
       "      Viscera weight  Shell weight  Rings  \n",
       "0             0.1010        0.1500   15.0  \n",
       "1             0.0485        0.0700    7.0  \n",
       "2             0.1415        0.2100    9.0  \n",
       "3             0.1140        0.1550   10.0  \n",
       "4             0.0395        0.0550    7.0  \n",
       "...              ...           ...    ...  \n",
       "4172          0.2390        0.2490   11.0  \n",
       "4173          0.2145        0.2605   10.0  \n",
       "4174          0.2875        0.3080    9.0  \n",
       "4175          0.2610        0.2960   10.0  \n",
       "4176          0.3765        0.4950   12.0  \n",
       "\n",
       "[4177 rows x 9 columns]"
      ]
     },
     "execution_count": 209,
     "metadata": {},
     "output_type": "execute_result"
    }
   ],
   "source": [
    "df"
   ]
  },
  {
   "cell_type": "markdown",
   "id": "d074bd11",
   "metadata": {},
   "source": [
    "Describe the dataset:"
   ]
  },
  {
   "cell_type": "code",
   "execution_count": 210,
   "id": "c3bd8499",
   "metadata": {
    "scrolled": true
   },
   "outputs": [
    {
     "data": {
      "text/html": [
       "<div>\n",
       "<style scoped>\n",
       "    .dataframe tbody tr th:only-of-type {\n",
       "        vertical-align: middle;\n",
       "    }\n",
       "\n",
       "    .dataframe tbody tr th {\n",
       "        vertical-align: top;\n",
       "    }\n",
       "\n",
       "    .dataframe thead th {\n",
       "        text-align: right;\n",
       "    }\n",
       "</style>\n",
       "<table border=\"1\" class=\"dataframe\">\n",
       "  <thead>\n",
       "    <tr style=\"text-align: right;\">\n",
       "      <th></th>\n",
       "      <th>Sex</th>\n",
       "      <th>Length</th>\n",
       "      <th>Diameter</th>\n",
       "      <th>Height</th>\n",
       "      <th>Whole weight</th>\n",
       "      <th>Shucked weight</th>\n",
       "      <th>Viscera weight</th>\n",
       "      <th>Shell weight</th>\n",
       "      <th>Rings</th>\n",
       "    </tr>\n",
       "  </thead>\n",
       "  <tbody>\n",
       "    <tr>\n",
       "      <th>count</th>\n",
       "      <td>4177.000000</td>\n",
       "      <td>4177.000000</td>\n",
       "      <td>4177.000000</td>\n",
       "      <td>4177.000000</td>\n",
       "      <td>4177.000000</td>\n",
       "      <td>4177.000000</td>\n",
       "      <td>4177.000000</td>\n",
       "      <td>4177.000000</td>\n",
       "      <td>4177.000000</td>\n",
       "    </tr>\n",
       "    <tr>\n",
       "      <th>mean</th>\n",
       "      <td>1.052909</td>\n",
       "      <td>0.523992</td>\n",
       "      <td>0.407881</td>\n",
       "      <td>0.139516</td>\n",
       "      <td>0.828742</td>\n",
       "      <td>0.359367</td>\n",
       "      <td>0.180594</td>\n",
       "      <td>0.238831</td>\n",
       "      <td>9.933684</td>\n",
       "    </tr>\n",
       "    <tr>\n",
       "      <th>std</th>\n",
       "      <td>0.822240</td>\n",
       "      <td>0.120093</td>\n",
       "      <td>0.099240</td>\n",
       "      <td>0.041827</td>\n",
       "      <td>0.490389</td>\n",
       "      <td>0.221963</td>\n",
       "      <td>0.109614</td>\n",
       "      <td>0.139203</td>\n",
       "      <td>3.224169</td>\n",
       "    </tr>\n",
       "    <tr>\n",
       "      <th>min</th>\n",
       "      <td>0.000000</td>\n",
       "      <td>0.075000</td>\n",
       "      <td>0.055000</td>\n",
       "      <td>0.000000</td>\n",
       "      <td>0.002000</td>\n",
       "      <td>0.001000</td>\n",
       "      <td>0.000500</td>\n",
       "      <td>0.001500</td>\n",
       "      <td>1.000000</td>\n",
       "    </tr>\n",
       "    <tr>\n",
       "      <th>25%</th>\n",
       "      <td>0.000000</td>\n",
       "      <td>0.450000</td>\n",
       "      <td>0.350000</td>\n",
       "      <td>0.115000</td>\n",
       "      <td>0.441500</td>\n",
       "      <td>0.186000</td>\n",
       "      <td>0.093500</td>\n",
       "      <td>0.130000</td>\n",
       "      <td>8.000000</td>\n",
       "    </tr>\n",
       "    <tr>\n",
       "      <th>50%</th>\n",
       "      <td>1.000000</td>\n",
       "      <td>0.545000</td>\n",
       "      <td>0.425000</td>\n",
       "      <td>0.140000</td>\n",
       "      <td>0.799500</td>\n",
       "      <td>0.336000</td>\n",
       "      <td>0.171000</td>\n",
       "      <td>0.234000</td>\n",
       "      <td>9.000000</td>\n",
       "    </tr>\n",
       "    <tr>\n",
       "      <th>75%</th>\n",
       "      <td>2.000000</td>\n",
       "      <td>0.615000</td>\n",
       "      <td>0.480000</td>\n",
       "      <td>0.165000</td>\n",
       "      <td>1.153000</td>\n",
       "      <td>0.502000</td>\n",
       "      <td>0.253000</td>\n",
       "      <td>0.329000</td>\n",
       "      <td>11.000000</td>\n",
       "    </tr>\n",
       "    <tr>\n",
       "      <th>max</th>\n",
       "      <td>2.000000</td>\n",
       "      <td>0.815000</td>\n",
       "      <td>0.650000</td>\n",
       "      <td>1.130000</td>\n",
       "      <td>2.825500</td>\n",
       "      <td>1.488000</td>\n",
       "      <td>0.760000</td>\n",
       "      <td>1.005000</td>\n",
       "      <td>29.000000</td>\n",
       "    </tr>\n",
       "  </tbody>\n",
       "</table>\n",
       "</div>"
      ],
      "text/plain": [
       "               Sex       Length     Diameter       Height  Whole weight  \\\n",
       "count  4177.000000  4177.000000  4177.000000  4177.000000   4177.000000   \n",
       "mean      1.052909     0.523992     0.407881     0.139516      0.828742   \n",
       "std       0.822240     0.120093     0.099240     0.041827      0.490389   \n",
       "min       0.000000     0.075000     0.055000     0.000000      0.002000   \n",
       "25%       0.000000     0.450000     0.350000     0.115000      0.441500   \n",
       "50%       1.000000     0.545000     0.425000     0.140000      0.799500   \n",
       "75%       2.000000     0.615000     0.480000     0.165000      1.153000   \n",
       "max       2.000000     0.815000     0.650000     1.130000      2.825500   \n",
       "\n",
       "       Shucked weight  Viscera weight  Shell weight        Rings  \n",
       "count     4177.000000     4177.000000   4177.000000  4177.000000  \n",
       "mean         0.359367        0.180594      0.238831     9.933684  \n",
       "std          0.221963        0.109614      0.139203     3.224169  \n",
       "min          0.001000        0.000500      0.001500     1.000000  \n",
       "25%          0.186000        0.093500      0.130000     8.000000  \n",
       "50%          0.336000        0.171000      0.234000     9.000000  \n",
       "75%          0.502000        0.253000      0.329000    11.000000  \n",
       "max          1.488000        0.760000      1.005000    29.000000  "
      ]
     },
     "execution_count": 210,
     "metadata": {},
     "output_type": "execute_result"
    }
   ],
   "source": [
    "# onlly continuous cloumns\n",
    "df.describe()"
   ]
  },
  {
   "cell_type": "code",
   "execution_count": 211,
   "id": "fd9abc94",
   "metadata": {},
   "outputs": [
    {
     "data": {
      "text/plain": [
       "<AxesSubplot:>"
      ]
     },
     "execution_count": 211,
     "metadata": {},
     "output_type": "execute_result"
    },
    {
     "data": {
      "image/png": "[encoded data removed]",
      "text/plain": [
       "<Figure size 720x504 with 2 Axes>"
      ]
     },
     "metadata": {
      "needs_background": "light"
     },
     "output_type": "display_data"
    }
   ],
   "source": [
    "import matplotlib.pyplot as plt\n",
    "plt.figure(figsize=(10,7))\n",
    "sns.heatmap(df.describe(),annot=True,linewidths=0.1,linecolor=\"black\",fmt=\"0.2f\")"
   ]
  },
  {
   "cell_type": "markdown",
   "id": "89666449",
   "metadata": {},
   "source": [
    "correlation of the columns with the target columns"
   ]
  },
  {
   "cell_type": "code",
   "execution_count": 212,
   "id": "5807271e",
   "metadata": {},
   "outputs": [
    {
     "data": {
      "text/plain": [
       "Sex              -0.034627\n",
       "Shucked weight    0.420884\n",
       "Viscera weight    0.503819\n",
       "Whole weight      0.540390\n",
       "Length            0.556720\n",
       "Height            0.557467\n",
       "Diameter          0.574660\n",
       "Shell weight      0.627574\n",
       "Rings             1.000000\n",
       "Name: Rings, dtype: float64"
      ]
     },
     "execution_count": 212,
     "metadata": {},
     "output_type": "execute_result"
    }
   ],
   "source": [
    "df.corr()['Rings'].sort_values()"
   ]
  },
  {
   "cell_type": "code",
   "execution_count": 213,
   "id": "057b44d7",
   "metadata": {},
   "outputs": [
    {
     "data": {
      "text/plain": [
       "<AxesSubplot:>"
      ]
     },
     "execution_count": 213,
     "metadata": {},
     "output_type": "execute_result"
    },
    {
     "data": {
      "image/png": "[encoded data removed]",
      "text/plain": [
       "<Figure size 720x504 with 2 Axes>"
      ]
     },
     "metadata": {
      "needs_background": "light"
     },
     "output_type": "display_data"
    }
   ],
   "source": [
    "plt.figure(figsize=(10,7))\n",
    "sns.heatmap(df.corr(),annot=True,linewidths=0.1,linecolor=\"black\",fmt=\"0.2f\",)"
   ]
  },
  {
   "cell_type": "markdown",
   "id": "4226b277",
   "metadata": {},
   "source": [
    "Checking the columns which are positively and negative correlated with the target columns:"
   ]
  },
  {
   "cell_type": "code",
   "execution_count": 216,
   "id": "9057958b",
   "metadata": {},
   "outputs": [
    {
     "data": {
      "image/png": "[encoded data removed]",
      "text/plain": [
       "<Figure size 720x504 with 1 Axes>"
      ]
     },
     "metadata": {
      "needs_background": "light"
     },
     "output_type": "display_data"
    }
   ],
   "source": [
    "plt.figure(figsize=(10,7))\n",
    "df.corr()['Rings'].sort_values(ascending=False).drop(['Rings']).plot(kind='bar',color='c')\n",
    "plt.xlabel('Feature',fontsize=14)\n",
    "plt.ylabel('column with target names',fontsize=14)\n",
    "plt.title('correlation',fontsize=18)\n",
    "plt.show()"
   ]
  },
  {
   "cell_type": "code",
   "execution_count": 217,
   "id": "b4f9e20c",
   "metadata": {},
   "outputs": [
    {
     "data": {
      "text/plain": [
       "Sex              -0.098155\n",
       "Length           -0.639873\n",
       "Diameter         -0.609198\n",
       "Height            3.128817\n",
       "Whole weight      0.530959\n",
       "Shucked weight    0.719098\n",
       "Viscera weight    0.591852\n",
       "Shell weight      0.620927\n",
       "Rings             1.114102\n",
       "dtype: float64"
      ]
     },
     "execution_count": 217,
     "metadata": {},
     "output_type": "execute_result"
    }
   ],
   "source": [
    "df.skew()"
   ]
  },
  {
   "cell_type": "markdown",
   "id": "0e43d892",
   "metadata": {},
   "source": [
    "outliers check:"
   ]
  },
  {
   "cell_type": "code",
   "execution_count": 218,
   "id": "a078a8c7",
   "metadata": {},
   "outputs": [
    {
     "data": {
      "text/plain": [
       "Sex               float64\n",
       "Length            float64\n",
       "Diameter          float64\n",
       "Height            float64\n",
       "Whole weight      float64\n",
       "Shucked weight    float64\n",
       "Viscera weight    float64\n",
       "Shell weight      float64\n",
       "Rings             float64\n",
       "dtype: object"
      ]
     },
     "execution_count": 218,
     "metadata": {},
     "output_type": "execute_result"
    }
   ],
   "source": [
    "df.dtypes"
   ]
  },
  {
   "cell_type": "markdown",
   "id": "f12efce5",
   "metadata": {},
   "source": [
    "check the outliers on the folat type of columns"
   ]
  },
  {
   "cell_type": "code",
   "execution_count": 219,
   "id": "3720d13e",
   "metadata": {},
   "outputs": [
    {
     "data": {
      "text/plain": [
       "<AxesSubplot:>"
      ]
     },
     "execution_count": 219,
     "metadata": {},
     "output_type": "execute_result"
    },
    {
     "data": {
      "image/png": "[encoded data removed]",
      "text/plain": [
       "<Figure size 432x288 with 1 Axes>"
      ]
     },
     "metadata": {
      "needs_background": "light"
     },
     "output_type": "display_data"
    }
   ],
   "source": [
    "df['Rings'].plot.box()"
   ]
  },
  {
   "cell_type": "code",
   "execution_count": 220,
   "id": "1f4ce38a",
   "metadata": {},
   "outputs": [
    {
     "data": {
      "text/plain": [
       "<AxesSubplot:>"
      ]
     },
     "execution_count": 220,
     "metadata": {},
     "output_type": "execute_result"
    },
    {
     "data": {
      "image/png": "[encoded data removed]",
      "text/plain": [
       "<Figure size 432x288 with 1 Axes>"
      ]
     },
     "metadata": {
      "needs_background": "light"
     },
     "output_type": "display_data"
    }
   ],
   "source": [
    "df['Length'].plot.box()"
   ]
  },
  {
   "cell_type": "code",
   "execution_count": 221,
   "id": "e002492d",
   "metadata": {},
   "outputs": [
    {
     "data": {
      "text/plain": [
       "<AxesSubplot:>"
      ]
     },
     "execution_count": 221,
     "metadata": {},
     "output_type": "execute_result"
    },
    {
     "data": {
      "image/png": "[encoded data removed]",
      "text/plain": [
       "<Figure size 432x288 with 1 Axes>"
      ]
     },
     "metadata": {
      "needs_background": "light"
     },
     "output_type": "display_data"
    }
   ],
   "source": [
    "df['Rings'].plot.box()"
   ]
  },
  {
   "cell_type": "code",
   "execution_count": 222,
   "id": "3fde95f2",
   "metadata": {},
   "outputs": [
    {
     "data": {
      "text/plain": [
       "<AxesSubplot:>"
      ]
     },
     "execution_count": 222,
     "metadata": {},
     "output_type": "execute_result"
    },
    {
     "data": {
      "image/png": "[encoded data removed]",
      "text/plain": [
       "<Figure size 432x288 with 1 Axes>"
      ]
     },
     "metadata": {
      "needs_background": "light"
     },
     "output_type": "display_data"
    }
   ],
   "source": [
    "df['Height'].plot.box()"
   ]
  },
  {
   "cell_type": "code",
   "execution_count": 223,
   "id": "ec7236ee",
   "metadata": {},
   "outputs": [
    {
     "data": {
      "text/plain": [
       "array([15.,  7.,  9., 10.,  8., 20., 16., 19., 14., 11., 12., 18., 13.,\n",
       "        5.,  4.,  6., 21., 17., 22.,  1.,  3., 26., 23., 29.,  2., 27.,\n",
       "       25., 24.])"
      ]
     },
     "execution_count": 223,
     "metadata": {},
     "output_type": "execute_result"
    }
   ],
   "source": [
    "df['Rings'].unique()"
   ]
  },
  {
   "cell_type": "markdown",
   "id": "f1d295f8",
   "metadata": {},
   "source": [
    "considering outlier removal"
   ]
  },
  {
   "cell_type": "code",
   "execution_count": 224,
   "id": "83c4c836",
   "metadata": {},
   "outputs": [
    {
     "data": {
      "text/plain": [
       "(4177, 9)"
      ]
     },
     "execution_count": 224,
     "metadata": {},
     "output_type": "execute_result"
    }
   ],
   "source": [
    "df.shape"
   ]
  },
  {
   "cell_type": "code",
   "execution_count": 225,
   "id": "1ee860b5",
   "metadata": {},
   "outputs": [
    {
     "data": {
      "text/plain": [
       "(array([   6,   72,   81,   83,  129,  163,  164,  165,  165,  165,  166,\n",
       "         166,  167,  168,  170,  181,  232,  236,  236,  236,  237,  237,\n",
       "         238,  238,  239,  270,  275,  277,  278,  294,  310,  313,  314,\n",
       "         334,  351,  355,  358,  358,  362,  375,  416,  417,  428,  431,\n",
       "         433,  469,  478,  480,  501,  526,  526,  530,  572,  628,  673,\n",
       "         674,  675,  678,  694,  696,  696,  719,  719,  720,  720,  744,\n",
       "         754,  756,  811,  891,  891,  891, 1048, 1051, 1051, 1052, 1193,\n",
       "        1197, 1199, 1202, 1204, 1206, 1206, 1207, 1207, 1207, 1207, 1209,\n",
       "        1209, 1257, 1417, 1417, 1418, 1422, 1426, 1427, 1427, 1427, 1428,\n",
       "        1429, 1429, 1528, 1754, 1756, 1757, 1759, 1761, 1762, 1762, 1762,\n",
       "        1763, 1763, 1763, 1821, 1982, 1986, 1987, 1987, 2051, 2090, 2108,\n",
       "        2108, 2114, 2114, 2157, 2161, 2176, 2180, 2199, 2201, 2208, 2209,\n",
       "        2274, 2275, 2305, 2334, 2334, 2334, 2335, 2344, 2358, 2368, 2381,\n",
       "        2436, 2459, 2471, 2544, 2623, 2624, 2624, 2624, 2625, 2709, 2710,\n",
       "        2710, 2810, 2810, 2811, 2811, 2811, 2862, 2863, 2863, 2863, 3007,\n",
       "        3008, 3140, 3148, 3149, 3149, 3151, 3151, 3188, 3193, 3280, 3359,\n",
       "        3427, 3427, 3427, 3599, 3599, 3628, 3713, 3715, 3715, 3715, 3715,\n",
       "        3800, 3837, 3899, 3899, 3902, 3924, 3930, 3944, 3961, 3962, 3996,\n",
       "        4145, 4148], dtype=int64),\n",
       " array([8, 8, 7, 8, 7, 7, 7, 4, 5, 7, 7, 8, 8, 7, 6, 8, 8, 1, 2, 3, 1, 2,\n",
       "        1, 2, 1, 8, 8, 7, 8, 8, 8, 8, 8, 7, 8, 8, 4, 7, 8, 8, 8, 8, 8, 8,\n",
       "        8, 8, 8, 8, 8, 1, 2, 8, 8, 8, 8, 8, 8, 8, 2, 1, 2, 1, 2, 1, 2, 8,\n",
       "        8, 8, 8, 4, 5, 7, 6, 4, 5, 4, 5, 5, 5, 5, 6, 5, 6, 4, 5, 6, 7, 4,\n",
       "        5, 3, 3, 5, 5, 6, 5, 4, 5, 6, 7, 1, 2, 5, 5, 5, 6, 6, 5, 4, 5, 6,\n",
       "        4, 5, 6, 5, 5, 1, 1, 2, 3, 7, 7, 8, 1, 2, 7, 7, 8, 8, 8, 8, 7, 8,\n",
       "        7, 8, 8, 4, 6, 8, 8, 8, 8, 7, 1, 8, 8, 8, 5, 4, 4, 5, 6, 5, 6, 5,\n",
       "        6, 5, 6, 4, 5, 6, 5, 4, 5, 6, 5, 7, 8, 7, 7, 8, 7, 8, 7, 8, 8, 8,\n",
       "        4, 5, 6, 4, 5, 6, 5, 4, 5, 6, 7, 4, 2, 1, 2, 1, 8, 8, 8, 5, 5, 3,\n",
       "        7, 6], dtype=int64))"
      ]
     },
     "execution_count": 225,
     "metadata": {},
     "output_type": "execute_result"
    }
   ],
   "source": [
    "from scipy.stats import zscore\n",
    "import numpy as np \n",
    "z=np.abs(zscore(df))\n",
    "threshold=3\n",
    "np.where(z>3)"
   ]
  },
  {
   "cell_type": "code",
   "execution_count": 226,
   "id": "3b9eb9a8",
   "metadata": {},
   "outputs": [
    {
     "data": {
      "text/html": [
       "<div>\n",
       "<style scoped>\n",
       "    .dataframe tbody tr th:only-of-type {\n",
       "        vertical-align: middle;\n",
       "    }\n",
       "\n",
       "    .dataframe tbody tr th {\n",
       "        vertical-align: top;\n",
       "    }\n",
       "\n",
       "    .dataframe thead th {\n",
       "        text-align: right;\n",
       "    }\n",
       "</style>\n",
       "<table border=\"1\" class=\"dataframe\">\n",
       "  <thead>\n",
       "    <tr style=\"text-align: right;\">\n",
       "      <th></th>\n",
       "      <th>Sex</th>\n",
       "      <th>Length</th>\n",
       "      <th>Diameter</th>\n",
       "      <th>Height</th>\n",
       "      <th>Whole weight</th>\n",
       "      <th>Shucked weight</th>\n",
       "      <th>Viscera weight</th>\n",
       "      <th>Shell weight</th>\n",
       "      <th>Rings</th>\n",
       "    </tr>\n",
       "  </thead>\n",
       "  <tbody>\n",
       "    <tr>\n",
       "      <th>0</th>\n",
       "      <td>2.0</td>\n",
       "      <td>0.455</td>\n",
       "      <td>0.365</td>\n",
       "      <td>0.095</td>\n",
       "      <td>0.5140</td>\n",
       "      <td>0.2245</td>\n",
       "      <td>0.1010</td>\n",
       "      <td>0.1500</td>\n",
       "      <td>15.0</td>\n",
       "    </tr>\n",
       "    <tr>\n",
       "      <th>1</th>\n",
       "      <td>2.0</td>\n",
       "      <td>0.350</td>\n",
       "      <td>0.265</td>\n",
       "      <td>0.090</td>\n",
       "      <td>0.2255</td>\n",
       "      <td>0.0995</td>\n",
       "      <td>0.0485</td>\n",
       "      <td>0.0700</td>\n",
       "      <td>7.0</td>\n",
       "    </tr>\n",
       "    <tr>\n",
       "      <th>2</th>\n",
       "      <td>0.0</td>\n",
       "      <td>0.530</td>\n",
       "      <td>0.420</td>\n",
       "      <td>0.135</td>\n",
       "      <td>0.6770</td>\n",
       "      <td>0.2565</td>\n",
       "      <td>0.1415</td>\n",
       "      <td>0.2100</td>\n",
       "      <td>9.0</td>\n",
       "    </tr>\n",
       "    <tr>\n",
       "      <th>3</th>\n",
       "      <td>2.0</td>\n",
       "      <td>0.440</td>\n",
       "      <td>0.365</td>\n",
       "      <td>0.125</td>\n",
       "      <td>0.5160</td>\n",
       "      <td>0.2155</td>\n",
       "      <td>0.1140</td>\n",
       "      <td>0.1550</td>\n",
       "      <td>10.0</td>\n",
       "    </tr>\n",
       "    <tr>\n",
       "      <th>4</th>\n",
       "      <td>1.0</td>\n",
       "      <td>0.330</td>\n",
       "      <td>0.255</td>\n",
       "      <td>0.080</td>\n",
       "      <td>0.2050</td>\n",
       "      <td>0.0895</td>\n",
       "      <td>0.0395</td>\n",
       "      <td>0.0550</td>\n",
       "      <td>7.0</td>\n",
       "    </tr>\n",
       "    <tr>\n",
       "      <th>...</th>\n",
       "      <td>...</td>\n",
       "      <td>...</td>\n",
       "      <td>...</td>\n",
       "      <td>...</td>\n",
       "      <td>...</td>\n",
       "      <td>...</td>\n",
       "      <td>...</td>\n",
       "      <td>...</td>\n",
       "      <td>...</td>\n",
       "    </tr>\n",
       "    <tr>\n",
       "      <th>4172</th>\n",
       "      <td>0.0</td>\n",
       "      <td>0.565</td>\n",
       "      <td>0.450</td>\n",
       "      <td>0.165</td>\n",
       "      <td>0.8870</td>\n",
       "      <td>0.3700</td>\n",
       "      <td>0.2390</td>\n",
       "      <td>0.2490</td>\n",
       "      <td>11.0</td>\n",
       "    </tr>\n",
       "    <tr>\n",
       "      <th>4173</th>\n",
       "      <td>2.0</td>\n",
       "      <td>0.590</td>\n",
       "      <td>0.440</td>\n",
       "      <td>0.135</td>\n",
       "      <td>0.9660</td>\n",
       "      <td>0.4390</td>\n",
       "      <td>0.2145</td>\n",
       "      <td>0.2605</td>\n",
       "      <td>10.0</td>\n",
       "    </tr>\n",
       "    <tr>\n",
       "      <th>4174</th>\n",
       "      <td>2.0</td>\n",
       "      <td>0.600</td>\n",
       "      <td>0.475</td>\n",
       "      <td>0.205</td>\n",
       "      <td>1.1760</td>\n",
       "      <td>0.5255</td>\n",
       "      <td>0.2875</td>\n",
       "      <td>0.3080</td>\n",
       "      <td>9.0</td>\n",
       "    </tr>\n",
       "    <tr>\n",
       "      <th>4175</th>\n",
       "      <td>0.0</td>\n",
       "      <td>0.625</td>\n",
       "      <td>0.485</td>\n",
       "      <td>0.150</td>\n",
       "      <td>1.0945</td>\n",
       "      <td>0.5310</td>\n",
       "      <td>0.2610</td>\n",
       "      <td>0.2960</td>\n",
       "      <td>10.0</td>\n",
       "    </tr>\n",
       "    <tr>\n",
       "      <th>4176</th>\n",
       "      <td>2.0</td>\n",
       "      <td>0.710</td>\n",
       "      <td>0.555</td>\n",
       "      <td>0.195</td>\n",
       "      <td>1.9485</td>\n",
       "      <td>0.9455</td>\n",
       "      <td>0.3765</td>\n",
       "      <td>0.4950</td>\n",
       "      <td>12.0</td>\n",
       "    </tr>\n",
       "  </tbody>\n",
       "</table>\n",
       "<p>4027 rows × 9 columns</p>\n",
       "</div>"
      ],
      "text/plain": [
       "      Sex  Length  Diameter  Height  Whole weight  Shucked weight  \\\n",
       "0     2.0   0.455     0.365   0.095        0.5140          0.2245   \n",
       "1     2.0   0.350     0.265   0.090        0.2255          0.0995   \n",
       "2     0.0   0.530     0.420   0.135        0.6770          0.2565   \n",
       "3     2.0   0.440     0.365   0.125        0.5160          0.2155   \n",
       "4     1.0   0.330     0.255   0.080        0.2050          0.0895   \n",
       "...   ...     ...       ...     ...           ...             ...   \n",
       "4172  0.0   0.565     0.450   0.165        0.8870          0.3700   \n",
       "4173  2.0   0.590     0.440   0.135        0.9660          0.4390   \n",
       "4174  2.0   0.600     0.475   0.205        1.1760          0.5255   \n",
       "4175  0.0   0.625     0.485   0.150        1.0945          0.5310   \n",
       "4176  2.0   0.710     0.555   0.195        1.9485          0.9455   \n",
       "\n",
       "      Viscera weight  Shell weight  Rings  \n",
       "0             0.1010        0.1500   15.0  \n",
       "1             0.0485        0.0700    7.0  \n",
       "2             0.1415        0.2100    9.0  \n",
       "3             0.1140        0.1550   10.0  \n",
       "4             0.0395        0.0550    7.0  \n",
       "...              ...           ...    ...  \n",
       "4172          0.2390        0.2490   11.0  \n",
       "4173          0.2145        0.2605   10.0  \n",
       "4174          0.2875        0.3080    9.0  \n",
       "4175          0.2610        0.2960   10.0  \n",
       "4176          0.3765        0.4950   12.0  \n",
       "\n",
       "[4027 rows x 9 columns]"
      ]
     },
     "execution_count": 226,
     "metadata": {},
     "output_type": "execute_result"
    }
   ],
   "source": [
    "df_new_z=df[(z<3).all(axis=1)]\n",
    "df_new_z"
   ]
  },
  {
   "cell_type": "code",
   "execution_count": 227,
   "id": "c69bc79b",
   "metadata": {},
   "outputs": [
    {
     "data": {
      "text/plain": [
       "(4027, 9)"
      ]
     },
     "execution_count": 227,
     "metadata": {},
     "output_type": "execute_result"
    }
   ],
   "source": [
    "df_new_z.shape"
   ]
  },
  {
   "cell_type": "code",
   "execution_count": 228,
   "id": "779caa04",
   "metadata": {},
   "outputs": [],
   "source": [
    "## percentage loss of data:"
   ]
  },
  {
   "cell_type": "code",
   "execution_count": 229,
   "id": "12724ae4",
   "metadata": {},
   "outputs": [],
   "source": [
    "data_loss=(4177-4027/4177)*100"
   ]
  },
  {
   "cell_type": "code",
   "execution_count": 230,
   "id": "c88c9a5f",
   "metadata": {},
   "outputs": [
    {
     "data": {
      "text/plain": [
       "417603.59109408665"
      ]
     },
     "execution_count": 230,
     "metadata": {},
     "output_type": "execute_result"
    }
   ],
   "source": [
    "data_loss"
   ]
  },
  {
   "cell_type": "markdown",
   "id": "90ecd265",
   "metadata": {},
   "source": [
    "separating the columns into features and target:"
   ]
  },
  {
   "cell_type": "code",
   "execution_count": 231,
   "id": "ae2486c9",
   "metadata": {},
   "outputs": [],
   "source": [
    "features=df.drop(\"Rings\",axis=1)\n",
    "target=df[\"Rings\"]"
   ]
  },
  {
   "cell_type": "markdown",
   "id": "0b3958e1",
   "metadata": {},
   "source": [
    "scaling the data using Min-Max scaler"
   ]
  },
  {
   "cell_type": "code",
   "execution_count": 232,
   "id": "adc8e14f",
   "metadata": {},
   "outputs": [],
   "source": [
    "from sklearn.preprocessing import MinMaxScaler\n",
    "mms=MinMaxScaler()\n",
    "from sklearn.linear_model import LinearRegression\n",
    "lr=LinearRegression()\n",
    "from sklearn.metrics import r2_score\n",
    "from sklearn.model_selection import train_test_split"
   ]
  },
  {
   "cell_type": "code",
   "execution_count": 233,
   "id": "ef1af4f2",
   "metadata": {},
   "outputs": [],
   "source": [
    "import warnings\n",
    "warnings.filterwarnings('ignore')"
   ]
  },
  {
   "cell_type": "code",
   "execution_count": 234,
   "id": "fa2877ec",
   "metadata": {},
   "outputs": [
    {
     "name": "stdout",
     "output_type": "stream",
     "text": [
      "At random state 0,the training accuracy is:- 0.5266943382158247\n",
      "At random state 0,the testing accuracy is:- 0.5300147524184924\n",
      "\n",
      "\n",
      "At random state 1,the training accuracy is:- 0.53428007569936\n",
      "At random state 1,the testing accuracy is:- 0.4992317277874875\n",
      "\n",
      "\n",
      "At random state 2,the training accuracy is:- 0.526253053600996\n",
      "At random state 2,the testing accuracy is:- 0.5151729794207712\n",
      "\n",
      "\n",
      "At random state 3,the training accuracy is:- 0.5331198013832301\n",
      "At random state 3,the testing accuracy is:- 0.5015582743334918\n",
      "\n",
      "\n",
      "At random state 4,the training accuracy is:- 0.5382795526015923\n",
      "At random state 4,the testing accuracy is:- 0.47330646590738956\n",
      "\n",
      "\n",
      "At random state 5,the training accuracy is:- 0.5388633829890347\n",
      "At random state 5,the testing accuracy is:- 0.4813786513650856\n",
      "\n",
      "\n",
      "At random state 6,the training accuracy is:- 0.5179147252140498\n",
      "At random state 6,the testing accuracy is:- 0.5660674008870981\n",
      "\n",
      "\n",
      "At random state 7,the training accuracy is:- 0.5245384466523473\n",
      "At random state 7,the testing accuracy is:- 0.5344570335074315\n",
      "\n",
      "\n",
      "At random state 8,the training accuracy is:- 0.5354687811437157\n",
      "At random state 8,the testing accuracy is:- 0.49430495824531173\n",
      "\n",
      "\n",
      "At random state 9,the training accuracy is:- 0.5356789206128802\n",
      "At random state 9,the testing accuracy is:- 0.49424099859119575\n",
      "\n",
      "\n",
      "At random state 10,the training accuracy is:- 0.5251453463352742\n",
      "At random state 10,the testing accuracy is:- 0.538717664013799\n",
      "\n",
      "\n",
      "At random state 11,the training accuracy is:- 0.519467965927471\n",
      "At random state 11,the testing accuracy is:- 0.5587460428016666\n",
      "\n",
      "\n",
      "At random state 12,the training accuracy is:- 0.5157958299216333\n",
      "At random state 12,the testing accuracy is:- 0.5706447870955237\n",
      "\n",
      "\n",
      "At random state 13,the training accuracy is:- 0.5251539671244912\n",
      "At random state 13,the testing accuracy is:- 0.5377082867050464\n",
      "\n",
      "\n",
      "At random state 14,the training accuracy is:- 0.5369354204586699\n",
      "At random state 14,the testing accuracy is:- 0.46610564201574856\n",
      "\n",
      "\n",
      "At random state 15,the training accuracy is:- 0.5386660814575421\n",
      "At random state 15,the testing accuracy is:- 0.48083053033408507\n",
      "\n",
      "\n",
      "At random state 16,the training accuracy is:- 0.529526308078476\n",
      "At random state 16,the testing accuracy is:- 0.5193990321579984\n",
      "\n",
      "\n",
      "At random state 17,the training accuracy is:- 0.5222307616914039\n",
      "At random state 17,the testing accuracy is:- 0.5471384658042445\n",
      "\n",
      "\n",
      "At random state 18,the training accuracy is:- 0.529665688499867\n",
      "At random state 18,the testing accuracy is:- 0.5189926355274981\n",
      "\n",
      "\n",
      "At random state 19,the training accuracy is:- 0.542060143405233\n",
      "At random state 19,the testing accuracy is:- 0.4685335689146234\n",
      "\n",
      "\n",
      "At random state 20,the training accuracy is:- 0.5362531709826681\n",
      "At random state 20,the testing accuracy is:- 0.4960163952120933\n",
      "\n",
      "\n",
      "At random state 21,the training accuracy is:- 0.5261904843027537\n",
      "At random state 21,the testing accuracy is:- 0.5279211904614223\n",
      "\n",
      "\n",
      "At random state 22,the training accuracy is:- 0.5408853233046749\n",
      "At random state 22,the testing accuracy is:- 0.44915514345377594\n",
      "\n",
      "\n",
      "At random state 23,the training accuracy is:- 0.5368140047764034\n",
      "At random state 23,the testing accuracy is:- 0.489632129332384\n",
      "\n",
      "\n",
      "At random state 24,the training accuracy is:- 0.5344184509025092\n",
      "At random state 24,the testing accuracy is:- 0.4943833557520062\n",
      "\n",
      "\n",
      "At random state 25,the training accuracy is:- 0.5379245039471384\n",
      "At random state 25,the testing accuracy is:- 0.4124056632317358\n",
      "\n",
      "\n",
      "At random state 26,the training accuracy is:- 0.5272945575020322\n",
      "At random state 26,the testing accuracy is:- 0.5279827480028939\n",
      "\n",
      "\n",
      "At random state 27,the training accuracy is:- 0.5344653665988013\n",
      "At random state 27,the testing accuracy is:- 0.47310793665464745\n",
      "\n",
      "\n",
      "At random state 28,the training accuracy is:- 0.5225191503395007\n",
      "At random state 28,the testing accuracy is:- 0.5472574557669928\n",
      "\n",
      "\n",
      "At random state 29,the training accuracy is:- 0.5305284541926967\n",
      "At random state 29,the testing accuracy is:- 0.5164494627924148\n",
      "\n",
      "\n",
      "At random state 30,the training accuracy is:- 0.5163511694850119\n",
      "At random state 30,the testing accuracy is:- 0.5688736384332189\n",
      "\n",
      "\n",
      "At random state 31,the training accuracy is:- 0.5123072295182896\n",
      "At random state 31,the testing accuracy is:- 0.5776656403280394\n",
      "\n",
      "\n",
      "At random state 32,the training accuracy is:- 0.5286978140117475\n",
      "At random state 32,the testing accuracy is:- 0.523426535572723\n",
      "\n",
      "\n",
      "At random state 33,the training accuracy is:- 0.5244479347105183\n",
      "At random state 33,the testing accuracy is:- 0.5368960152371538\n",
      "\n",
      "\n",
      "At random state 34,the training accuracy is:- 0.5384925978525621\n",
      "At random state 34,the testing accuracy is:- 0.48083265501682426\n",
      "\n",
      "\n",
      "At random state 35,the training accuracy is:- 0.5339087844698827\n",
      "At random state 35,the testing accuracy is:- 0.47422424437004806\n",
      "\n",
      "\n",
      "At random state 36,the training accuracy is:- 0.5312136233088038\n",
      "At random state 36,the testing accuracy is:- 0.512688227627449\n",
      "\n",
      "\n",
      "At random state 37,the training accuracy is:- 0.5171717230090709\n",
      "At random state 37,the testing accuracy is:- 0.5713045221697673\n",
      "\n",
      "\n",
      "At random state 38,the training accuracy is:- 0.5230646585970176\n",
      "At random state 38,the testing accuracy is:- 0.5433941252293368\n",
      "\n",
      "\n",
      "At random state 39,the training accuracy is:- 0.5309124365083671\n",
      "At random state 39,the testing accuracy is:- 0.47761338214831117\n",
      "\n",
      "\n",
      "At random state 40,the training accuracy is:- 0.5342732924048548\n",
      "At random state 40,the testing accuracy is:- 0.49853267511531485\n",
      "\n",
      "\n",
      "At random state 41,the training accuracy is:- 0.5361095298182523\n",
      "At random state 41,the testing accuracy is:- 0.45243844650255327\n",
      "\n",
      "\n",
      "At random state 42,the training accuracy is:- 0.5264768075017208\n",
      "At random state 42,the testing accuracy is:- 0.5323381317508206\n",
      "\n",
      "\n",
      "At random state 43,the training accuracy is:- 0.5176081385815764\n",
      "At random state 43,the testing accuracy is:- 0.5719430413889437\n",
      "\n",
      "\n",
      "At random state 44,the training accuracy is:- 0.5317753887337697\n",
      "At random state 44,the testing accuracy is:- 0.5118169170220717\n",
      "\n",
      "\n",
      "At random state 45,the training accuracy is:- 0.5280181509532851\n",
      "At random state 45,the testing accuracy is:- 0.5257332361020479\n",
      "\n",
      "\n",
      "At random state 46,the training accuracy is:- 0.5290195260581237\n",
      "At random state 46,the testing accuracy is:- 0.5180575576192472\n",
      "\n",
      "\n",
      "At random state 47,the training accuracy is:- 0.5357858549852176\n",
      "At random state 47,the testing accuracy is:- 0.45371212977835107\n",
      "\n",
      "\n",
      "At random state 48,the training accuracy is:- 0.5247080900287413\n",
      "At random state 48,the testing accuracy is:- 0.5391721729659283\n",
      "\n",
      "\n",
      "At random state 49,the training accuracy is:- 0.5334870168207435\n",
      "At random state 49,the testing accuracy is:- 0.5038537720715714\n",
      "\n",
      "\n",
      "At random state 50,the training accuracy is:- 0.5273939034884678\n",
      "At random state 50,the testing accuracy is:- 0.49684320628008005\n",
      "\n",
      "\n",
      "At random state 51,the training accuracy is:- 0.5284507902008264\n",
      "At random state 51,the testing accuracy is:- 0.49770560846110246\n",
      "\n",
      "\n",
      "At random state 52,the training accuracy is:- 0.5210890952336199\n",
      "At random state 52,the testing accuracy is:- 0.5530430752804297\n",
      "\n",
      "\n",
      "At random state 53,the training accuracy is:- 0.5218278765314073\n",
      "At random state 53,the testing accuracy is:- 0.5475799825433404\n",
      "\n",
      "\n",
      "At random state 54,the training accuracy is:- 0.5363598910069513\n",
      "At random state 54,the testing accuracy is:- 0.4900411294443001\n",
      "\n",
      "\n",
      "At random state 55,the training accuracy is:- 0.5304883511483813\n",
      "At random state 55,the testing accuracy is:- 0.5128643611883683\n",
      "\n",
      "\n",
      "At random state 56,the training accuracy is:- 0.527671812256119\n",
      "At random state 56,the testing accuracy is:- 0.4894061649804583\n",
      "\n",
      "\n",
      "At random state 57,the training accuracy is:- 0.5325854683707323\n",
      "At random state 57,the testing accuracy is:- 0.48922005979775907\n",
      "\n",
      "\n",
      "At random state 58,the training accuracy is:- 0.5299630755653578\n",
      "At random state 58,the testing accuracy is:- 0.514347670432459\n",
      "\n",
      "\n",
      "At random state 59,the training accuracy is:- 0.5329365471763721\n",
      "At random state 59,the testing accuracy is:- 0.5037130063913309\n",
      "\n",
      "\n",
      "At random state 60,the training accuracy is:- 0.5346592950435476\n",
      "At random state 60,the testing accuracy is:- 0.4972691483049103\n",
      "\n",
      "\n",
      "At random state 61,the training accuracy is:- 0.5263754086366701\n",
      "At random state 61,the testing accuracy is:- 0.49654648231463505\n",
      "\n",
      "\n",
      "At random state 62,the training accuracy is:- 0.5257127451569854\n",
      "At random state 62,the testing accuracy is:- 0.5345442627398923\n",
      "\n",
      "\n",
      "At random state 63,the training accuracy is:- 0.5375429856652125\n",
      "At random state 63,the testing accuracy is:- 0.4546036861649444\n",
      "\n",
      "\n",
      "At random state 64,the training accuracy is:- 0.5245858141163269\n",
      "At random state 64,the testing accuracy is:- 0.5337314490546555\n",
      "\n",
      "\n",
      "At random state 65,the training accuracy is:- 0.5306361275709256\n",
      "At random state 65,the testing accuracy is:- 0.46276183816549477\n",
      "\n",
      "\n",
      "At random state 66,the training accuracy is:- 0.5393917019558114\n",
      "At random state 66,the testing accuracy is:- 0.4277523448353685\n",
      "\n",
      "\n",
      "At random state 67,the training accuracy is:- 0.5282341191606378\n",
      "At random state 67,the testing accuracy is:- 0.5242877828862305\n",
      "\n",
      "\n",
      "At random state 68,the training accuracy is:- 0.5331717699196992\n",
      "At random state 68,the testing accuracy is:- 0.5048773747074332\n",
      "\n",
      "\n",
      "At random state 69,the training accuracy is:- 0.5233730072769853\n",
      "At random state 69,the testing accuracy is:- 0.5429012499175024\n",
      "\n",
      "\n",
      "At random state 70,the training accuracy is:- 0.5294250706220407\n",
      "At random state 70,the testing accuracy is:- 0.4945051720420942\n",
      "\n",
      "\n",
      "At random state 71,the training accuracy is:- 0.5245826209425921\n",
      "At random state 71,the testing accuracy is:- 0.5394505024163805\n",
      "\n",
      "\n",
      "At random state 72,the training accuracy is:- 0.5304788115280922\n",
      "At random state 72,the testing accuracy is:- 0.5144896018396111\n",
      "\n",
      "\n",
      "At random state 73,the training accuracy is:- 0.5319747400170209\n",
      "At random state 73,the testing accuracy is:- 0.5080644470263409\n",
      "\n",
      "\n",
      "At random state 74,the training accuracy is:- 0.5277309708845049\n",
      "At random state 74,the testing accuracy is:- 0.5259850244886168\n",
      "\n",
      "\n",
      "At random state 75,the training accuracy is:- 0.5324261261042391\n",
      "At random state 75,the testing accuracy is:- 0.5038768042936519\n",
      "\n",
      "\n",
      "At random state 76,the training accuracy is:- 0.5276047824743663\n",
      "At random state 76,the testing accuracy is:- 0.5268165360817587\n",
      "\n",
      "\n",
      "At random state 77,the training accuracy is:- 0.5211168002457508\n",
      "At random state 77,the testing accuracy is:- 0.5540962221789931\n",
      "\n",
      "\n",
      "At random state 78,the training accuracy is:- 0.5320314357502742\n",
      "At random state 78,the testing accuracy is:- 0.5079338444989321\n",
      "\n",
      "\n",
      "At random state 79,the training accuracy is:- 0.5318053359302093\n",
      "At random state 79,the testing accuracy is:- 0.5032555503705366\n",
      "\n",
      "\n",
      "At random state 80,the training accuracy is:- 0.530996963000439\n",
      "At random state 80,the testing accuracy is:- 0.5132553723606583\n",
      "\n",
      "\n",
      "At random state 81,the training accuracy is:- 0.5183942985301618\n",
      "At random state 81,the testing accuracy is:- 0.5647495544227684\n",
      "\n",
      "\n",
      "At random state 82,the training accuracy is:- 0.5255158743130229\n",
      "At random state 82,the testing accuracy is:- 0.5335652926869059\n",
      "\n",
      "\n",
      "At random state 83,the training accuracy is:- 0.5321034770347564\n",
      "At random state 83,the testing accuracy is:- 0.5058676185955486\n",
      "\n",
      "\n",
      "At random state 84,the training accuracy is:- 0.5352869082532452\n",
      "At random state 84,the testing accuracy is:- 0.4933671736200649\n",
      "\n",
      "\n",
      "At random state 85,the training accuracy is:- 0.52842533260561\n",
      "At random state 85,the testing accuracy is:- 0.5224099148184007\n",
      "\n",
      "\n",
      "At random state 86,the training accuracy is:- 0.5353190822067571\n",
      "At random state 86,the testing accuracy is:- 0.4753028085428236\n",
      "\n",
      "\n",
      "At random state 87,the training accuracy is:- 0.5313152845443312\n",
      "At random state 87,the testing accuracy is:- 0.5083234647629025\n",
      "\n",
      "\n",
      "At random state 88,the training accuracy is:- 0.5217578022160754\n",
      "At random state 88,the testing accuracy is:- 0.5507628591592889\n",
      "\n",
      "\n",
      "At random state 89,the training accuracy is:- 0.518914914221543\n",
      "At random state 89,the testing accuracy is:- 0.5620943329093601\n",
      "\n",
      "\n",
      "At random state 90,the training accuracy is:- 0.5268843291974189\n",
      "At random state 90,the testing accuracy is:- 0.5292247678550257\n",
      "\n",
      "\n",
      "At random state 91,the training accuracy is:- 0.5305164763971275\n",
      "At random state 91,the testing accuracy is:- 0.5143026984729945\n",
      "\n",
      "\n",
      "At random state 92,the training accuracy is:- 0.5408208585076739\n",
      "At random state 92,the testing accuracy is:- 0.4510751105936355\n",
      "\n",
      "\n",
      "At random state 93,the training accuracy is:- 0.5226601787059828\n",
      "At random state 93,the testing accuracy is:- 0.5459958302084024\n",
      "\n",
      "\n",
      "At random state 94,the training accuracy is:- 0.5236689458961712\n",
      "At random state 94,the testing accuracy is:- 0.5411446823022166\n",
      "\n",
      "\n",
      "At random state 95,the training accuracy is:- 0.5205052992923153\n",
      "At random state 95,the testing accuracy is:- 0.5542234991551005\n",
      "\n",
      "\n",
      "At random state 96,the training accuracy is:- 0.526574031803958\n",
      "At random state 96,the testing accuracy is:- 0.5324247997177756\n",
      "\n",
      "\n",
      "At random state 97,the training accuracy is:- 0.5243698035526333\n",
      "At random state 97,the testing accuracy is:- 0.5410656204302923\n",
      "\n",
      "\n",
      "At random state 98,the training accuracy is:- 0.5398275846070972\n",
      "At random state 98,the testing accuracy is:- 0.4784814354465654\n",
      "\n",
      "\n",
      "At random state 99,the training accuracy is:- 0.535604382128883\n",
      "At random state 99,the testing accuracy is:- 0.4622999190350451\n",
      "\n",
      "\n"
     ]
    }
   ],
   "source": [
    "for i in range(0,100):\n",
    "    features_train,features_test,target_train,target_test=train_test_split(features,target,test_size=0.2,random_state=i)\n",
    "    lr.fit(features_train,target_train)\n",
    "    pred_train=lr.predict(features_train)\n",
    "    pred_test=lr.predict(features_test)\n",
    "    print(f\"At random state {i},the training accuracy is:- {r2_score(target_train,pred_train)}\")\n",
    "    print(f\"At random state {i},the testing accuracy is:- {r2_score(target_test,pred_test)}\")\n",
    "    print(\"\\n\")"
   ]
  },
  {
   "cell_type": "code",
   "execution_count": 235,
   "id": "b720ce8c",
   "metadata": {},
   "outputs": [],
   "source": [
    "features_train,features_test,target_train,target_test=train_test_split(features,target,test_size=0.2,random_state=12)"
   ]
  },
  {
   "cell_type": "code",
   "execution_count": 236,
   "id": "2ff4df87",
   "metadata": {},
   "outputs": [
    {
     "data": {
      "text/plain": [
       "LinearRegression()"
      ]
     },
     "execution_count": 236,
     "metadata": {},
     "output_type": "execute_result"
    }
   ],
   "source": [
    "# train the model\n",
    "lr.fit(features_train,target_train)"
   ]
  },
  {
   "cell_type": "code",
   "execution_count": 237,
   "id": "2c939903",
   "metadata": {},
   "outputs": [],
   "source": [
    "pred_test=lr.predict(features_test)"
   ]
  },
  {
   "cell_type": "code",
   "execution_count": 238,
   "id": "2063da84",
   "metadata": {},
   "outputs": [
    {
     "name": "stdout",
     "output_type": "stream",
     "text": [
      "0.5706447870955237\n"
     ]
    }
   ],
   "source": [
    "print(r2_score(target_test,pred_test))"
   ]
  },
  {
   "cell_type": "markdown",
   "id": "69f503e4",
   "metadata": {},
   "source": [
    "cross-validation of the model"
   ]
  },
  {
   "cell_type": "code",
   "execution_count": 239,
   "id": "5a476624",
   "metadata": {},
   "outputs": [
    {
     "name": "stdout",
     "output_type": "stream",
     "text": [
      "At cross fold 2 the cv score is 0.5045305294380884 and accuracy score for the training is -0.5417788919465729 and accuracy for the testing is 0.5706447870955237\n",
      "\n",
      "\n",
      "At cross fold 3 the cv score is 0.4862195244230115 and accuracy score for the training is -0.5417788919465729 and accuracy for the testing is 0.5706447870955237\n",
      "\n",
      "\n",
      "At cross fold 4 the cv score is 0.36963955335620435 and accuracy score for the training is -0.5417788919465729 and accuracy for the testing is 0.5706447870955237\n",
      "\n",
      "\n",
      "At cross fold 5 the cv score is 0.3980361557787404 and accuracy score for the training is -0.5417788919465729 and accuracy for the testing is 0.5706447870955237\n",
      "\n",
      "\n",
      "At cross fold 6 the cv score is 0.374316598902438 and accuracy score for the training is -0.5417788919465729 and accuracy for the testing is 0.5706447870955237\n",
      "\n",
      "\n",
      "At cross fold 7 the cv score is 0.42794108868716346 and accuracy score for the training is -0.5417788919465729 and accuracy for the testing is 0.5706447870955237\n",
      "\n",
      "\n",
      "At cross fold 8 the cv score is 0.3360361483545491 and accuracy score for the training is -0.5417788919465729 and accuracy for the testing is 0.5706447870955237\n",
      "\n",
      "\n",
      "At cross fold 9 the cv score is 0.4082485883193198 and accuracy score for the training is -0.5417788919465729 and accuracy for the testing is 0.5706447870955237\n",
      "\n",
      "\n"
     ]
    }
   ],
   "source": [
    "Train_accuracy=r2_score(target_train,pred_train)\n",
    "Test_accuracy=r2_score(target_test,pred_test)\n",
    "\n",
    "from sklearn.model_selection import cross_val_score\n",
    "for j in range(2,10):\n",
    "    cv_score=cross_val_score(lr,features,target,cv=j)\n",
    "    cv_mean=cv_score.mean()\n",
    "    print(f\"At cross fold {j} the cv score is {cv_mean} and accuracy score for the training is {Train_accuracy} and accuracy for the testing is {Test_accuracy}\")\n",
    "    print(\"\\n\")"
   ]
  },
  {
   "cell_type": "markdown",
   "id": "ed31bf08",
   "metadata": {},
   "source": [
    "since the number of folds don't have such impact on the accuracy and cv_score.So cv=5 is selected"
   ]
  },
  {
   "cell_type": "markdown",
   "id": "3afb2d65",
   "metadata": {},
   "source": [
    "here we handle the problem of the overfiting and the under fiting by checking the training and testing score"
   ]
  },
  {
   "cell_type": "code",
   "execution_count": 240,
   "id": "7cb34dfc",
   "metadata": {},
   "outputs": [
    {
     "data": {
      "image/png": "[encoded data removed]",
      "text/plain": [
       "<Figure size 576x432 with 1 Axes>"
      ]
     },
     "metadata": {
      "needs_background": "light"
     },
     "output_type": "display_data"
    }
   ],
   "source": [
    "import matplotlib.pyplot as plt\n",
    "plt.figure(figsize=(8,6))\n",
    "plt.scatter(x=target_test, y=pred_test, color='r')\n",
    "plt.plot(target_test,target_test, color='b')\n",
    "plt.xlabel('Sex',fontsize=14)\n",
    "plt.ylabel('Rings',fontsize=14)\n",
    "plt.title('Linear Regression',fontsize=18)\n",
    "plt.savefig('lr.png')\n",
    "plt.show()"
   ]
  },
  {
   "cell_type": "markdown",
   "id": "b54398b7",
   "metadata": {},
   "source": [
    "Regularization"
   ]
  },
  {
   "cell_type": "code",
   "execution_count": 241,
   "id": "2f855eb9",
   "metadata": {},
   "outputs": [],
   "source": [
    "from sklearn.model_selection import GridSearchCV\n",
    "from sklearn.model_selection import cross_val_score\n",
    "import warnings\n",
    "warnings.filterwarnings('ignore')"
   ]
  },
  {
   "cell_type": "code",
   "execution_count": 246,
   "id": "f2deb56d",
   "metadata": {},
   "outputs": [
    {
     "name": "stdout",
     "output_type": "stream",
     "text": [
      "{'alpha': 0.001, 'random_state': 0}\n"
     ]
    }
   ],
   "source": [
    "from sklearn.linear_model import Lasso\n",
    "\n",
    "parameters = {'alpha':[.0001, .001, .01, .1, 1, 10],\n",
    "              'random_state':list(range(0,10))}\n",
    "ls = Lasso()\n",
    "clf = GridSearchCV(ls,parameters)\n",
    "clf.fit(features_train,target_train)\n",
    "\n",
    "print(clf.best_params_)"
   ]
  },
  {
   "cell_type": "code",
   "execution_count": 247,
   "id": "0e9dbe2f",
   "metadata": {},
   "outputs": [
    {
     "data": {
      "text/plain": [
       "0.0"
      ]
     },
     "execution_count": 247,
     "metadata": {},
     "output_type": "execute_result"
    }
   ],
   "source": [
    "# final model training\n",
    "ls =  Lasso(alpha=1,random_state=0)\n",
    "ls.fit(features_train,target_train)\n",
    "ls_score_training = ls.score(features_train,target_train)\n",
    "pred_ls = ls.predict(features_test)\n",
    "ls_score_training*100"
   ]
  },
  {
   "cell_type": "code",
   "execution_count": 248,
   "id": "7f77c8f5",
   "metadata": {},
   "outputs": [],
   "source": [
    "pred_ls = ls.predict(features_test)"
   ]
  },
  {
   "cell_type": "code",
   "execution_count": 249,
   "id": "f7c21800",
   "metadata": {},
   "outputs": [
    {
     "data": {
      "text/plain": [
       "-0.051645407108935615"
      ]
     },
     "execution_count": 249,
     "metadata": {},
     "output_type": "execute_result"
    }
   ],
   "source": [
    "lss = r2_score(target_test,pred_ls)\n",
    "lss*100"
   ]
  },
  {
   "cell_type": "code",
   "execution_count": 250,
   "id": "bac333ae",
   "metadata": {},
   "outputs": [
    {
     "data": {
      "text/plain": [
       "-20.90330540722421"
      ]
     },
     "execution_count": 250,
     "metadata": {},
     "output_type": "execute_result"
    }
   ],
   "source": [
    "cv_score=cross_val_score(ls,features,target,cv=5)\n",
    "cv_mean=cv_score.mean()\n",
    "cv_mean*100"
   ]
  },
  {
   "cell_type": "code",
   "execution_count": null,
   "id": "6f2e8586",
   "metadata": {},
   "outputs": [],
   "source": []
  }
 ],
 "metadata": {
  "kernelspec": {
   "display_name": "Python 3 (ipykernel)",
   "language": "python",
   "name": "python3"
  },
  "language_info": {
   "codemirror_mode": {
    "name": "ipython",
    "version": 3
   },
   "file_extension": ".py",
   "mimetype": "text/x-python",
   "name": "python",
   "nbconvert_exporter": "python",
   "pygments_lexer": "ipython3",
   "version": "3.9.7"
  }
 },
 "nbformat": 4,
 "nbformat_minor": 5
}
